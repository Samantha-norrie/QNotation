{
 "cells": [
  {
   "cell_type": "code",
   "execution_count": null,
   "id": "02c5d36c",
   "metadata": {},
   "outputs": [],
   "source": [
    "from qiskit import QuantumCircuit\n",
    "from qnotation import QNotation\n",
    "\n",
    "def make_qc():\n",
    "    qc = QuantumCircuit(3)\n",
    "    qc.h(0)\n",
    "    qc.h(1)\n",
    "    qc.h(0)\n",
    "    qc.h(2)\n",
    "    qc.x(1)\n",
    "\n",
    "    return qc\n",
    "\n",
    "QNotation.view_notations(make_qc())"
   ]
  }
 ],
 "metadata": {
  "kernelspec": {
   "display_name": "Python 3 (ipykernel)",
   "language": "python",
   "name": "python3"
  },
  "language_info": {
   "codemirror_mode": {
    "name": "ipython",
    "version": 3
   },
   "file_extension": ".py",
   "mimetype": "text/x-python",
   "name": "python",
   "nbconvert_exporter": "python",
   "pygments_lexer": "ipython3",
   "version": "3.9.16"
  }
 },
 "nbformat": 4,
 "nbformat_minor": 5
}
