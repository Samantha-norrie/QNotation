{
 "cells": [
  {
   "cell_type": "code",
   "execution_count": 1,
   "id": "4ed39438",
   "metadata": {
    "scrolled": false
   },
   "outputs": [
    {
     "data": {
      "application/vnd.jupyter.widget-view+json": {
       "model_id": "65c8ac109a63496680087798d9fa5e19",
       "version_major": 2,
       "version_minor": 0
      },
      "text/html": [
       "Cannot show widget. You probably want to rerun the code cell above (<i>Click in the code cell, and press Shift+Enter <kbd>⇧</kbd>+<kbd>↩</kbd></i>)."
      ],
      "text/plain": [
       "Cannot show ipywidgets in text"
      ]
     },
     "metadata": {},
     "output_type": "display_data"
    },
    {
     "name": "stdout",
     "output_type": "stream",
     "text": [
      "[[0.0], [0.0], [1.0], [0.0], [0.0], [0.0], [0.0], [0.0]]\n",
      "[[0.0], [0.0], [1.0], [0.0], [0.0], [0.0], [0.0], [0.0]]\n",
      "[[0.0], [0.0], [0.4999999999999999], [0.0], [0.0], [0.0], [0.4999999999999999], [0.0]]\n",
      "[[0.0], [0.0], [0.4999999999999999], [0.0], [0.0], [0.0], [0.4999999999999999], [0.0]]\n"
     ]
    },
    {
     "data": {
      "application/vnd.jupyter.widget-view+json": {
       "model_id": "01e663643417461e9962593a959cd8d2",
       "version_major": 2,
       "version_minor": 0
      },
      "text/html": [
       "Cannot show widget. You probably want to rerun the code cell above (<i>Click in the code cell, and press Shift+Enter <kbd>⇧</kbd>+<kbd>↩</kbd></i>)."
      ],
      "text/plain": [
       "Cannot show ipywidgets in text"
      ]
     },
     "metadata": {},
     "output_type": "display_data"
    }
   ],
   "source": [
    "from qiskit import QuantumCircuit\n",
    "from qnotation import QNotation\n",
    "\n",
    "def make_qc():\n",
    "    qc = QuantumCircuit(3)\n",
    "    qc.initialize([0, 1], 1)\n",
    "#     qc.x(1)\n",
    "#     qc.h(1)\n",
    "    qc.cs(1,2)\n",
    "#     qc.cnot(0,1)\n",
    "    qc.h(0)\n",
    "#      qc.h(1)\n",
    "#     qc.h(0)\n",
    "#     qc.h(2)\n",
    "    qc.x(0)\n",
    "#     qc.x(1)\n",
    "\n",
    "    return qc\n",
    "QNotation.view_notations(make_qc())"
   ]
  },
  {
   "cell_type": "code",
   "execution_count": null,
   "id": "f524be1f",
   "metadata": {
    "scrolled": false
   },
   "outputs": [],
   "source": [
    "from qiskit import QuantumCircuit\n",
    "from qnotation import QNotation\n",
    "from numpy import pi\n",
    "\n",
    "qc = QuantumCircuit(3)\n",
    "qc.initialize([0, 1], 1)\n",
    "qc.h(2)\n",
    "qc.cp(pi/2, 1, 2)\n",
    "qc.cp(pi/4, 0, 2)\n",
    "qc.h(1)\n",
    "qc.cp(pi/2, 0, 1) # CROT from qubit 0 to qubit 1\n",
    "qc.h(0)\n",
    "\n",
    "qc.swap(0,2)\n",
    "print(qc.data)\n",
    "QNotation.view_notations(qc)"
   ]
  },
  {
   "cell_type": "code",
   "execution_count": null,
   "id": "2dac5dc6",
   "metadata": {},
   "outputs": [],
   "source": [
    "from qiskit import QuantumCircuit\n",
    "from qiskit.quantum_info import Statevector\n",
    "from qnotation import QNotation\n",
    "\n",
    "qc = QuantumCircuit(3)\n",
    "qc.x(2)\n",
    "print(qc.data)\n",
    "print(qc.reverse_bits().data)\n",
    "Statevector(qc).reverse_qargs().draw(output='latex')\n",
    "# print(\"rev?\", qc.data)\n",
    "# qc.h(2)\n",
    "# one = Statevector(qc)\n",
    "# # print(one)\n",
    "# qc.cp(pi/2, 1, 2)\n",
    "# two = Statevector(qc)\n",
    "# print(two)"
   ]
  },
  {
   "cell_type": "code",
   "execution_count": 1,
   "id": "5286a330",
   "metadata": {},
   "outputs": [
    {
     "data": {
      "application/vnd.jupyter.widget-view+json": {
       "model_id": "5372b8c8de3a4032a985d66fdec7d0cf",
       "version_major": 2,
       "version_minor": 0
      },
      "text/html": [
       "Cannot show widget. You probably want to rerun the code cell above (<i>Click in the code cell, and press Shift+Enter <kbd>⇧</kbd>+<kbd>↩</kbd></i>)."
      ],
      "text/plain": [
       "Cannot show ipywidgets in text"
      ]
     },
     "metadata": {},
     "output_type": "display_data"
    },
    {
     "name": "stdout",
     "output_type": "stream",
     "text": [
      "starting vector Operator([[1.+0.j, 0.+0.j, 0.+0.j, 0.+0.j, 0.+0.j, 0.+0.j, 0.+0.j, 0.+0.j],\n",
      "          [0.+0.j, 1.+0.j, 0.+0.j, 0.+0.j, 0.+0.j, 0.+0.j, 0.+0.j, 0.+0.j],\n",
      "          [0.+0.j, 0.+0.j, 1.+0.j, 0.+0.j, 0.+0.j, 0.+0.j, 0.+0.j, 0.+0.j],\n",
      "          [0.+0.j, 0.+0.j, 0.+0.j, 1.+0.j, 0.+0.j, 0.+0.j, 0.+0.j, 0.+0.j],\n",
      "          [0.+0.j, 0.+0.j, 0.+0.j, 0.+0.j, 1.+0.j, 0.+0.j, 0.+0.j, 0.+0.j],\n",
      "          [0.+0.j, 0.+0.j, 0.+0.j, 0.+0.j, 0.+0.j, 1.+0.j, 0.+0.j, 0.+0.j],\n",
      "          [0.+0.j, 0.+0.j, 0.+0.j, 0.+0.j, 0.+0.j, 0.+0.j, 1.+0.j, 0.+0.j],\n",
      "          [0.+0.j, 0.+0.j, 0.+0.j, 0.+0.j, 0.+0.j, 0.+0.j, 0.+0.j, 1.+0.j]],\n",
      "         input_dims=(2, 2, 2), output_dims=(2, 2, 2))\n",
      "[Matrix(matrix([[0.+0.j, 1.+0.j],\n",
      "        [1.+0.j, 0.+0.j]]), []), '?']\n"
     ]
    },
    {
     "data": {
      "application/vnd.jupyter.widget-view+json": {
       "model_id": "b8cd823d72b54e65a7a79c489e6515a1",
       "version_major": 2,
       "version_minor": 0
      },
      "text/html": [
       "Cannot show widget. You probably want to rerun the code cell above (<i>Click in the code cell, and press Shift+Enter <kbd>⇧</kbd>+<kbd>↩</kbd></i>)."
      ],
      "text/plain": [
       "Cannot show ipywidgets in text"
      ]
     },
     "metadata": {},
     "output_type": "display_data"
    }
   ],
   "source": [
    "from qiskit import QuantumCircuit\n",
    "from qnotation import QNotation\n",
    "from numpy import pi\n",
    "\n",
    "qc = QuantumCircuit(3)\n",
    "# qc.initialize([0, 1], 1)\n",
    "# qc.h(2)\n",
    "qc.x(2)\n",
    "# print(qc)\n",
    "# qc.cp(pi/2, 1, 2)\n",
    "# qc.cp(pi/4, 0, 2)\n",
    "# qc.h(1)\n",
    "# qc.cp(pi/2, 0, 1) # CROT from qubit 0 to qubit 1\n",
    "# qc.h(0)\n",
    "\n",
    "# qc.swap(0,2)\n",
    "# print(qc.data)\n",
    "QNotation.view_notations(qc)"
   ]
  },
  {
   "cell_type": "code",
   "execution_count": null,
   "id": "63293922",
   "metadata": {},
   "outputs": [],
   "source": [
    "from qiskit import QuantumCircuit\n",
    "from qnotation import QNotation\n",
    "from qiskit.quantum_info import Operator\n",
    "from numpy import pi\n",
    "from qiskit.circuit.library import SwapGate\n",
    "\n",
    "qc = QuantumCircuit(3)\n",
    "qc.swap(0,2)\n",
    "print(Operator(SwapGate))\n"
   ]
  },
  {
   "cell_type": "code",
   "execution_count": null,
   "id": "a77dd290",
   "metadata": {},
   "outputs": [],
   "source": []
  }
 ],
 "metadata": {
  "kernelspec": {
   "display_name": "Python 3 (ipykernel)",
   "language": "python",
   "name": "python3"
  },
  "language_info": {
   "codemirror_mode": {
    "name": "ipython",
    "version": 3
   },
   "file_extension": ".py",
   "mimetype": "text/x-python",
   "name": "python",
   "nbconvert_exporter": "python",
   "pygments_lexer": "ipython3",
   "version": "3.9.16"
  }
 },
 "nbformat": 4,
 "nbformat_minor": 5
}
