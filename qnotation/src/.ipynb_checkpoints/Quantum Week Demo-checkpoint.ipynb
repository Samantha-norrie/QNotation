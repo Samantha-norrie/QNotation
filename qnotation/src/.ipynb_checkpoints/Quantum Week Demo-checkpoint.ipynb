{
 "cells": [
  {
   "cell_type": "code",
   "execution_count": 1,
   "id": "4f90963f",
   "metadata": {
    "scrolled": false
   },
   "outputs": [
    {
     "data": {
      "application/vnd.jupyter.widget-view+json": {
       "model_id": "5789dcccff2f497eb27ef1a68e127045",
       "version_major": 2,
       "version_minor": 0
      },
      "text/html": [
       "Cannot show widget. You probably want to rerun the code cell above (<i>Click in the code cell, and press Shift+Enter <kbd>⇧</kbd>+<kbd>↩</kbd></i>)."
      ],
      "text/plain": [
       "Cannot show ipywidgets in text"
      ]
     },
     "metadata": {},
     "output_type": "display_data"
    },
    {
     "name": "stdout",
     "output_type": "stream",
     "text": [
      "0.7071067811865475 0.0 (0.7071067811865475-0j)\n",
      "0.7071067811865475 0.0 (0.7071067811865475-0j)\n",
      "0.7071067811865475 0.0 (0.7071067811865475-0j)\n",
      "-0.7071067811865475 0.0 (-0.7071067811865475-0j)\n",
      "1.0 0.0 (1-0j)\n",
      "0.0 0.0 -0j\n",
      "0.0 0.0 -0j\n",
      "0.0 0.0 -0j\n",
      "0.0 0.0 -0j\n",
      "0.0 0.0 -0j\n",
      "0.0 0.0 -0j\n",
      "1.0 0.0 (1-0j)\n",
      "0.0 0.0 -0j\n",
      "0.0 0.0 -0j\n",
      "1.0 0.0 (1-0j)\n",
      "0.0 0.0 -0j\n",
      "0.0 0.0 -0j\n",
      "1.0 0.0 (1-0j)\n",
      "0.0 0.0 -0j\n",
      "0.0 0.0 -0j\n",
      "0.7071067811865475 0.0 (0.7071067811865475-0j)\n",
      "0.7071067811865475 0.0 (0.7071067811865475-0j)\n",
      "0.7071067811865475 0.0 (0.7071067811865475-0j)\n",
      "-0.7071067811865475 0.0 (-0.7071067811865475-0j)\n",
      "0.0 0.0 -0j\n",
      "1.0 0.0 (1-0j)\n",
      "1.0 0.0 (1-0j)\n",
      "0.0 0.0 -0j\n",
      "1.0 0.0 (1-0j)\n",
      "0.0 0.0 -0j\n",
      "0.0 0.0 -0j\n",
      "0.0 0.0 -0j\n",
      "0.0 0.0 -0j\n",
      "1.0 0.0 (1-0j)\n",
      "0.0 0.0 -0j\n",
      "0.0 0.0 -0j\n",
      "0.0 0.0 -0j\n",
      "0.0 0.0 -0j\n",
      "1.0 0.0 (1-0j)\n",
      "0.0 0.0 -0j\n",
      "0.0 0.0 -0j\n",
      "0.0 0.0 -0j\n",
      "0.0 0.0 -0j\n",
      "0.0 1.0 -1j\n",
      "[[0.4999999999999999], [0.0], [0.0], [0.0], [0.4999999999999999], [0.0], [0.0], [0.0]]\n",
      "[[0.4999999999999999], [0.0], [0.0], [0.0], [0.0], [0.0], [0.4999999999999999], [0.0]]\n",
      "[[0.2499999999999999], [0.0], [0.2499999999999999], [0.0], [0.2499999999999999], [0.0], [0.2499999999999999], [0.0]]\n",
      "[[0.0], [0.2499999999999999], [0.0], [0.2499999999999999], [0.0], [0.2499999999999999], [0.0], [0.2499999999999999]]\n",
      "[[0.0], [0.2499999999999999], [0.0], [0.2499999999999999], [0.0], [0.2499999999999999], [0.0], [0.2499999999999999]]\n"
     ]
    },
    {
     "data": {
      "application/vnd.jupyter.widget-view+json": {
       "model_id": "6665c11262ac4e70aa4ff0213ef6a676",
       "version_major": 2,
       "version_minor": 0
      },
      "text/html": [
       "Cannot show widget. You probably want to rerun the code cell above (<i>Click in the code cell, and press Shift+Enter <kbd>⇧</kbd>+<kbd>↩</kbd></i>)."
      ],
      "text/plain": [
       "Cannot show ipywidgets in text"
      ]
     },
     "metadata": {},
     "output_type": "display_data"
    }
   ],
   "source": [
    "from qiskit import QuantumCircuit\n",
    "from qnotation import QNotation\n",
    "\n",
    "def make_qc():\n",
    "    qc = QuantumCircuit(3)\n",
    "    qc.h(0)\n",
    "    qc.cnot(0,1)\n",
    "    qc.h(0)\n",
    "    qc.x(2)\n",
    "    qc.cs(1,2)\n",
    "    return qc\n",
    "\n",
    "QNotation.view_notations(make_qc())"
   ]
  },
  {
   "cell_type": "code",
   "execution_count": null,
   "id": "09a2451f",
   "metadata": {},
   "outputs": [],
   "source": []
  }
 ],
 "metadata": {
  "kernelspec": {
   "display_name": "Python 3 (ipykernel)",
   "language": "python",
   "name": "python3"
  },
  "language_info": {
   "codemirror_mode": {
    "name": "ipython",
    "version": 3
   },
   "file_extension": ".py",
   "mimetype": "text/x-python",
   "name": "python",
   "nbconvert_exporter": "python",
   "pygments_lexer": "ipython3",
   "version": "3.9.12"
  }
 },
 "nbformat": 4,
 "nbformat_minor": 5
}
